{
  "nbformat": 4,
  "nbformat_minor": 0,
  "metadata": {
    "colab": {
      "name": "5-2. 연습.ipynb",
      "provenance": [],
      "collapsed_sections": [],
      "authorship_tag": "ABX9TyPAJ00cT02hjh5SnWjLg4N1",
      "include_colab_link": true
    },
    "kernelspec": {
      "name": "python3",
      "display_name": "Python 3"
    },
    "language_info": {
      "name": "python"
    }
  },
  "cells": [
    {
      "cell_type": "markdown",
      "metadata": {
        "id": "view-in-github",
        "colab_type": "text"
      },
      "source": [
        "<a href=\"https://colab.research.google.com/github/LEEGWONSEOK/MLDL_Basic/blob/main/5_2_%EC%97%B0%EC%8A%B5.ipynb\" target=\"_parent\"><img src=\"https://colab.research.google.com/assets/colab-badge.svg\" alt=\"Open In Colab\"/></a>"
      ]
    },
    {
      "cell_type": "code",
      "metadata": {
        "colab": {
          "base_uri": "https://localhost:8080/",
          "height": 205
        },
        "id": "1W2Oc1jkT4qF",
        "outputId": "40e4fd1e-4798-465e-c916-310169bc7f7a"
      },
      "source": [
        "import pandas as pd\n",
        "\n",
        "wine = pd.read_csv('https://bit.ly/wine_csv_data')\n",
        "\n",
        "wine.head()"
      ],
      "execution_count": null,
      "outputs": [
        {
          "output_type": "execute_result",
          "data": {
            "text/html": [
              "<div>\n",
              "<style scoped>\n",
              "    .dataframe tbody tr th:only-of-type {\n",
              "        vertical-align: middle;\n",
              "    }\n",
              "\n",
              "    .dataframe tbody tr th {\n",
              "        vertical-align: top;\n",
              "    }\n",
              "\n",
              "    .dataframe thead th {\n",
              "        text-align: right;\n",
              "    }\n",
              "</style>\n",
              "<table border=\"1\" class=\"dataframe\">\n",
              "  <thead>\n",
              "    <tr style=\"text-align: right;\">\n",
              "      <th></th>\n",
              "      <th>alcohol</th>\n",
              "      <th>sugar</th>\n",
              "      <th>pH</th>\n",
              "      <th>class</th>\n",
              "    </tr>\n",
              "  </thead>\n",
              "  <tbody>\n",
              "    <tr>\n",
              "      <th>0</th>\n",
              "      <td>9.4</td>\n",
              "      <td>1.9</td>\n",
              "      <td>3.51</td>\n",
              "      <td>0.0</td>\n",
              "    </tr>\n",
              "    <tr>\n",
              "      <th>1</th>\n",
              "      <td>9.8</td>\n",
              "      <td>2.6</td>\n",
              "      <td>3.20</td>\n",
              "      <td>0.0</td>\n",
              "    </tr>\n",
              "    <tr>\n",
              "      <th>2</th>\n",
              "      <td>9.8</td>\n",
              "      <td>2.3</td>\n",
              "      <td>3.26</td>\n",
              "      <td>0.0</td>\n",
              "    </tr>\n",
              "    <tr>\n",
              "      <th>3</th>\n",
              "      <td>9.8</td>\n",
              "      <td>1.9</td>\n",
              "      <td>3.16</td>\n",
              "      <td>0.0</td>\n",
              "    </tr>\n",
              "    <tr>\n",
              "      <th>4</th>\n",
              "      <td>9.4</td>\n",
              "      <td>1.9</td>\n",
              "      <td>3.51</td>\n",
              "      <td>0.0</td>\n",
              "    </tr>\n",
              "  </tbody>\n",
              "</table>\n",
              "</div>"
            ],
            "text/plain": [
              "   alcohol  sugar    pH  class\n",
              "0      9.4    1.9  3.51    0.0\n",
              "1      9.8    2.6  3.20    0.0\n",
              "2      9.8    2.3  3.26    0.0\n",
              "3      9.8    1.9  3.16    0.0\n",
              "4      9.4    1.9  3.51    0.0"
            ]
          },
          "metadata": {},
          "execution_count": 20
        }
      ]
    },
    {
      "cell_type": "code",
      "metadata": {
        "id": "Tyr5q1d3Uo98"
      },
      "source": [
        "data = wine[['alcohol', 'sugar', 'pH']].to_numpy()\n",
        "target = wine['class'].to_numpy()"
      ],
      "execution_count": null,
      "outputs": []
    },
    {
      "cell_type": "code",
      "metadata": {
        "id": "L-BIYZHmU79w",
        "colab": {
          "base_uri": "https://localhost:8080/"
        },
        "outputId": "e7678434-d9f3-475f-d32f-f4dd0da4f0fe"
      },
      "source": [
        "## data 분리\n",
        "\n",
        "from sklearn.model_selection import train_test_split\n",
        "\n",
        "# data에서 train, test 셋으로 분리\n",
        "train_input, test_input, train_target, test_target = train_test_split(data, target, test_size=0.2, random_state=42)\n",
        "\n",
        "# train set 에서 train, validation으로 다시 분리\n",
        "sub_input, valid_input, sub_target, valid_target = train_test_split(train_input, train_target, test_size=0.2, random_state=42)\n",
        "\n",
        "# train, valid, test 비율 확인! >> 잘 뽑힌걸 확인할 수 있다\n",
        "print(sub_input.shape, valid_input.shape, test_input.shape)"
      ],
      "execution_count": null,
      "outputs": [
        {
          "output_type": "stream",
          "text": [
            "(4157, 3) (1040, 3) (1300, 3)\n"
          ],
          "name": "stdout"
        }
      ]
    },
    {
      "cell_type": "code",
      "metadata": {
        "colab": {
          "base_uri": "https://localhost:8080/"
        },
        "id": "A3RioQRHPrPq",
        "outputId": "b10d25cc-695f-49c5-dc39-ae1462edf928"
      },
      "source": [
        "## 결정트리모델 생성\n",
        "\n",
        "from sklearn.tree import DecisionTreeClassifier\n",
        "\n",
        "dt = DecisionTreeClassifier(random_state=42)    # 모델 객체 생성\n",
        "dt.fit(sub_input, sub_target)\n",
        "\n",
        "# train, valid로 우선 점수 비교해본다!\n",
        "print(dt.score(sub_input, sub_target))\n",
        "print(dt.score(valid_input, valid_target))\n",
        "\n",
        "# 대충 과적합!"
      ],
      "execution_count": null,
      "outputs": [
        {
          "output_type": "stream",
          "text": [
            "0.9971133028626413\n",
            "0.864423076923077\n"
          ],
          "name": "stdout"
        }
      ]
    },
    {
      "cell_type": "code",
      "metadata": {
        "colab": {
          "base_uri": "https://localhost:8080/"
        },
        "id": "7bEDi4VJRaO-",
        "outputId": "0b029475-eaf7-40b7-ddb0-d3025ff1ddea"
      },
      "source": [
        "## 교차검증\n",
        "# 교차검증을 하는 이유? : 무작위로 여러번 모델을 돌려서 과적합을 줄이기 위해!\n",
        "\n",
        "from sklearn.model_selection import cross_validate  # 교차검증 모듈\n",
        "\n",
        "scores = cross_validate(dt, train_input, train_target)\n",
        "print(scores)\n",
        "\n",
        "# cross_validate 의 출력값은 fit_time, score_time, test_score "
      ],
      "execution_count": null,
      "outputs": [
        {
          "output_type": "stream",
          "text": [
            "{'fit_time': array([0.00869203, 0.00680685, 0.0071156 , 0.00702786, 0.00652313]), 'score_time': array([0.0006845 , 0.00055385, 0.00053191, 0.00059223, 0.00057864]), 'test_score': array([0.86923077, 0.84615385, 0.87680462, 0.84889317, 0.83541867])}\n"
          ],
          "name": "stdout"
        }
      ]
    },
    {
      "cell_type": "code",
      "metadata": {
        "colab": {
          "base_uri": "https://localhost:8080/"
        },
        "id": "loS7Ag-JSP4i",
        "outputId": "99e4e404-fbcc-4312-8f35-d45445a88b7a"
      },
      "source": [
        "import numpy as np\n",
        "\n",
        "# 교차검증은 나온 점수들의 평균 값으로 확인가능하다!\n",
        "print(np.mean(scores['test_score']))"
      ],
      "execution_count": null,
      "outputs": [
        {
          "output_type": "stream",
          "text": [
            "0.855300214703487\n"
          ],
          "name": "stdout"
        }
      ]
    },
    {
      "cell_type": "code",
      "metadata": {
        "colab": {
          "base_uri": "https://localhost:8080/"
        },
        "id": "wftQbvj2StM3",
        "outputId": "eaaa1ee2-161e-4214-da05-8ea5bce5bf98"
      },
      "source": [
        "## 교차검증 : K폴드 모델\n",
        "\n",
        "from sklearn.model_selection import StratifiedKFold\n",
        "\n",
        "scores = cross_validate(dt, train_input, train_target, cv=StratifiedKFold())  # 이거는 따로 객체생성을 안하는 건지 아니면 형태가 다른지\n",
        "print(np.mean(scores['test_score']))\n",
        "\n",
        "# 위와 점수가 동일한 것을 확인할 수 있다"
      ],
      "execution_count": null,
      "outputs": [
        {
          "output_type": "stream",
          "text": [
            "0.855300214703487\n"
          ],
          "name": "stdout"
        }
      ]
    },
    {
      "cell_type": "code",
      "metadata": {
        "colab": {
          "base_uri": "https://localhost:8080/"
        },
        "id": "MR4kKuk7U5pL",
        "outputId": "015fc6a5-0511-4ea9-ddb8-28da776c10c4"
      },
      "source": [
        "## 하이퍼파라미터 튜닝 : 그리드서치\n",
        "\n",
        "from sklearn.model_selection import GridSearchCV\n",
        "\n",
        "params = {'min_impurity_decrease': [0.0001, 0.0002, 0.0003, 0.0004, 0.0005]}  # parameter를 딕셔너리 형태로 작업한다!\n",
        "\n",
        "gs = GridSearchCV(DecisionTreeClassifier(random_state=42), params, n_jobs=-1) # n_jobs : CPU 사용 선택 파라미터\n",
        "gs.fit(train_input, train_target)"
      ],
      "execution_count": null,
      "outputs": [
        {
          "output_type": "execute_result",
          "data": {
            "text/plain": [
              "GridSearchCV(cv=None, error_score=nan,\n",
              "             estimator=DecisionTreeClassifier(ccp_alpha=0.0, class_weight=None,\n",
              "                                              criterion='gini', max_depth=None,\n",
              "                                              max_features=None,\n",
              "                                              max_leaf_nodes=None,\n",
              "                                              min_impurity_decrease=0.0,\n",
              "                                              min_impurity_split=None,\n",
              "                                              min_samples_leaf=1,\n",
              "                                              min_samples_split=2,\n",
              "                                              min_weight_fraction_leaf=0.0,\n",
              "                                              presort='deprecated',\n",
              "                                              random_state=42,\n",
              "                                              splitter='best'),\n",
              "             iid='deprecated', n_jobs=-1,\n",
              "             param_grid={'min_impurity_decrease': [0.0001, 0.0002, 0.0003,\n",
              "                                                   0.0004, 0.0005]},\n",
              "             pre_dispatch='2*n_jobs', refit=True, return_train_score=False,\n",
              "             scoring=None, verbose=0)"
            ]
          },
          "metadata": {},
          "execution_count": 27
        }
      ]
    },
    {
      "cell_type": "code",
      "metadata": {
        "colab": {
          "base_uri": "https://localhost:8080/"
        },
        "id": "687m4D4RVyxl",
        "outputId": "9239f780-2c59-40df-9b0f-e615e1928bc3"
      },
      "source": [
        "dt = gs.best_estimator_   # 나온 값들 중에 가장 높은 점수를 채택\n",
        "print(dt.score(train_input, train_target))\n",
        "print(gs.best_params_)    # 어떤 파라미터값이 가장 높은지 확인\n",
        "\n",
        "# min_impurity_decrease = 0.0001 일때 점수가 가장 높다는 것 확인!"
      ],
      "execution_count": null,
      "outputs": [
        {
          "output_type": "stream",
          "text": [
            "0.9615162593804117\n",
            "{'min_impurity_decrease': 0.0001}\n"
          ],
          "name": "stdout"
        }
      ]
    },
    {
      "cell_type": "code",
      "metadata": {
        "colab": {
          "base_uri": "https://localhost:8080/"
        },
        "id": "icOW7Q_QWneZ",
        "outputId": "e9598774-2114-4977-91ec-ffae19c4611d"
      },
      "source": [
        "print(gs.cv_results_['mean_test_score'])  # 돌린 점수 전부 확인\n",
        "\n",
        "best_index = np.argmax(gs.cv_results_['mean_test_score'])\n",
        "print(gs.cv_results_['params'][best_index])"
      ],
      "execution_count": null,
      "outputs": [
        {
          "output_type": "stream",
          "text": [
            "[0.86819297 0.86453617 0.86492226 0.86780891 0.86761605]\n",
            "{'min_impurity_decrease': 0.0001}\n"
          ],
          "name": "stdout"
        }
      ]
    },
    {
      "cell_type": "code",
      "metadata": {
        "id": "pPGNUK9dXAn4"
      },
      "source": [
        "# 파라미터 좀더 넓혀서 해보기\n",
        "params = {'min_impurity_decrease': np.arange(0.0001, 0.001, 0.0001),\n",
        "          'max_depth': range(5, 20, 1),\n",
        "          'min_samples_split': range(2, 100, 10)\n",
        "          }"
      ],
      "execution_count": null,
      "outputs": []
    },
    {
      "cell_type": "code",
      "metadata": {
        "colab": {
          "base_uri": "https://localhost:8080/"
        },
        "id": "43pt7QdUYFG5",
        "outputId": "738867d9-09b9-4257-fd5f-896ad96fe7f2"
      },
      "source": [
        "gs2 = GridSearchCV(DecisionTreeClassifier(random_state=42), params, n_jobs=-1)\n",
        "gs2.fit(train_input, train_target)"
      ],
      "execution_count": null,
      "outputs": [
        {
          "output_type": "execute_result",
          "data": {
            "text/plain": [
              "GridSearchCV(cv=None, error_score=nan,\n",
              "             estimator=DecisionTreeClassifier(ccp_alpha=0.0, class_weight=None,\n",
              "                                              criterion='gini', max_depth=None,\n",
              "                                              max_features=None,\n",
              "                                              max_leaf_nodes=None,\n",
              "                                              min_impurity_decrease=0.0,\n",
              "                                              min_impurity_split=None,\n",
              "                                              min_samples_leaf=1,\n",
              "                                              min_samples_split=2,\n",
              "                                              min_weight_fraction_leaf=0.0,\n",
              "                                              presort='deprecated',\n",
              "                                              random_state=42,\n",
              "                                              splitter='best'),\n",
              "             iid='deprecated', n_jobs=-1,\n",
              "             param_grid={'max_depth': range(5, 20),\n",
              "                         'min_impurity_decrease': array([0.0001, 0.0002, 0.0003, 0.0004, 0.0005, 0.0006, 0.0007, 0.0008,\n",
              "       0.0009]),\n",
              "                         'min_samples_split': range(2, 100, 10)},\n",
              "             pre_dispatch='2*n_jobs', refit=True, return_train_score=False,\n",
              "             scoring=None, verbose=0)"
            ]
          },
          "metadata": {},
          "execution_count": 35
        }
      ]
    },
    {
      "cell_type": "code",
      "metadata": {
        "colab": {
          "base_uri": "https://localhost:8080/"
        },
        "id": "mqwZZp5FYgV6",
        "outputId": "b407e970-def1-4247-b8f9-a53ef27d49bb"
      },
      "source": [
        "print(gs2.best_params_)\n",
        "print(np.max(gs.cv_results_['mean_test_score']))  # 여기서는 다양하게 나온 값들 중에 가장 높은 값으로 선택!(max)\n",
        "\n",
        "# 그리드서치를 통해 점수가 조금 오른 것을 확인할 수 있다"
      ],
      "execution_count": null,
      "outputs": [
        {
          "output_type": "stream",
          "text": [
            "{'max_depth': 14, 'min_impurity_decrease': 0.0004, 'min_samples_split': 12}\n",
            "0.8681929740134745\n"
          ],
          "name": "stdout"
        }
      ]
    },
    {
      "cell_type": "code",
      "metadata": {
        "colab": {
          "base_uri": "https://localhost:8080/"
        },
        "id": "Zg6STkEVY0BE",
        "outputId": "f264ef92-62a3-4603-f11f-16d508c47885"
      },
      "source": [
        "## 랜덤 서치\n",
        "# 그리드 서치의 단점은 일일이 값을 다 돌려보기때문에 오래걸린다, 랜덤서치를 통해 조금 효율적인 튜닝이 가능\n",
        "\n",
        "from scipy.stats import uniform, randint\n",
        "\n",
        "rgen = randint(0, 10)\n",
        "rgen.rvs(10)\n",
        "\n",
        "# 10번 밖에 안돌려서 점수가 뒤죽박죽처럼 보인다"
      ],
      "execution_count": null,
      "outputs": [
        {
          "output_type": "execute_result",
          "data": {
            "text/plain": [
              "array([6, 4, 4, 8, 3, 4, 5, 5, 9, 4])"
            ]
          },
          "metadata": {},
          "execution_count": 37
        }
      ]
    },
    {
      "cell_type": "code",
      "metadata": {
        "colab": {
          "base_uri": "https://localhost:8080/"
        },
        "id": "xKfxSvodZWwT",
        "outputId": "d2201ee8-30ba-420f-b27e-a1b086331011"
      },
      "source": [
        "np.unique(rgen.rvs(1000), return_counts=True)\n",
        "\n",
        "# 하지만 1000번이나 돌리면 어느정도 순서가 맞다!"
      ],
      "execution_count": null,
      "outputs": [
        {
          "output_type": "execute_result",
          "data": {
            "text/plain": [
              "(array([0, 1, 2, 3, 4, 5, 6, 7, 8, 9]),\n",
              " array([101,  92, 100, 104,  97,  98, 116,  92, 101,  99]))"
            ]
          },
          "metadata": {},
          "execution_count": 38
        }
      ]
    },
    {
      "cell_type": "code",
      "metadata": {
        "id": "A3vxv90PZogU",
        "colab": {
          "base_uri": "https://localhost:8080/"
        },
        "outputId": "1d9047cb-7540-43eb-b9d9-b6178f9939d2"
      },
      "source": [
        "from sklearn.model_selection import RandomizedSearchCV    # 랜덤서치 모듈\n",
        "\n",
        "params = {'min_impurity_decrease': uniform(0.0001, 0.001),\n",
        "          'max_depth': randint(20, 50),\n",
        "          'min_samples_split': randint(2, 25),\n",
        "          'min_samples_leaf': randint(1, 25)}\n",
        "\n",
        "rs = RandomizedSearchCV(DecisionTreeClassifier(random_state=42), params, \n",
        "                        n_iter=100, n_jobs=-1, random_state=42)\n",
        "rs.fit(train_input, train_target)"
      ],
      "execution_count": 39,
      "outputs": [
        {
          "output_type": "execute_result",
          "data": {
            "text/plain": [
              "RandomizedSearchCV(cv=None, error_score=nan,\n",
              "                   estimator=DecisionTreeClassifier(ccp_alpha=0.0,\n",
              "                                                    class_weight=None,\n",
              "                                                    criterion='gini',\n",
              "                                                    max_depth=None,\n",
              "                                                    max_features=None,\n",
              "                                                    max_leaf_nodes=None,\n",
              "                                                    min_impurity_decrease=0.0,\n",
              "                                                    min_impurity_split=None,\n",
              "                                                    min_samples_leaf=1,\n",
              "                                                    min_samples_split=2,\n",
              "                                                    min_weight_fraction_leaf=0.0,\n",
              "                                                    presort='deprecated',\n",
              "                                                    random_state=42,\n",
              "                                                    splitter='best'),...\n",
              "                                        'min_impurity_decrease': <scipy.stats._distn_infrastructure.rv_frozen object at 0x7fcf8c1359d0>,\n",
              "                                        'min_samples_leaf': <scipy.stats._distn_infrastructure.rv_frozen object at 0x7fcf8c135bd0>,\n",
              "                                        'min_samples_split': <scipy.stats._distn_infrastructure.rv_frozen object at 0x7fcf8c135a50>},\n",
              "                   pre_dispatch='2*n_jobs', random_state=42, refit=True,\n",
              "                   return_train_score=False, scoring=None, verbose=0)"
            ]
          },
          "metadata": {},
          "execution_count": 39
        }
      ]
    },
    {
      "cell_type": "code",
      "metadata": {
        "colab": {
          "base_uri": "https://localhost:8080/"
        },
        "id": "c6UoMsleAIdU",
        "outputId": "21a5d864-a57d-4ed5-ac2e-489ca081b7d0"
      },
      "source": [
        "print(rs.best_params_)\n",
        "\n",
        "print(np.max(rs.cv_results_['mean_test_score']))"
      ],
      "execution_count": 41,
      "outputs": [
        {
          "output_type": "stream",
          "text": [
            "{'max_depth': 39, 'min_impurity_decrease': 0.00034102546602601173, 'min_samples_leaf': 7, 'min_samples_split': 13}\n",
            "0.8695428296438884\n"
          ],
          "name": "stdout"
        }
      ]
    },
    {
      "cell_type": "code",
      "metadata": {
        "colab": {
          "base_uri": "https://localhost:8080/"
        },
        "id": "Xmp4JfU-AWaN",
        "outputId": "2bdd69ad-3f0b-40b9-a895-5e1a2180c17d"
      },
      "source": [
        "dt_rs = rs.best_estimator_\n",
        "\n",
        "print(dt_rs.score(test_input, test_target))\n",
        "\n",
        "# 좀더 과적합이 줄어들었다는 것을 알 수 있다"
      ],
      "execution_count": 42,
      "outputs": [
        {
          "output_type": "stream",
          "text": [
            "0.86\n"
          ],
          "name": "stdout"
        }
      ]
    }
  ]
}