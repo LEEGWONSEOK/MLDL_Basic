{
  "nbformat": 4,
  "nbformat_minor": 0,
  "metadata": {
    "colab": {
      "name": "2-2. 연습.ipynb",
      "provenance": [],
      "collapsed_sections": [],
      "authorship_tag": "ABX9TyPFNpgSyB/GYzX1vvoifMu8",
      "include_colab_link": true
    },
    "kernelspec": {
      "name": "python3",
      "display_name": "Python 3"
    },
    "language_info": {
      "name": "python"
    }
  },
  "cells": [
    {
      "cell_type": "markdown",
      "metadata": {
        "id": "view-in-github",
        "colab_type": "text"
      },
      "source": [
        "<a href=\"https://colab.research.google.com/github/LEEGWONSEOK/MLDL_Basic/blob/main/2_2_%EC%97%B0%EC%8A%B5.ipynb\" target=\"_parent\"><img src=\"https://colab.research.google.com/assets/colab-badge.svg\" alt=\"Open In Colab\"/></a>"
      ]
    },
    {
      "cell_type": "code",
      "metadata": {
        "id": "TOtSud3zJ6YH"
      },
      "source": [
        "## data\n",
        "fish_length = [25.4, 26.3, 26.5, 29.0, 29.0, 29.7, 29.7, 30.0, 30.0, 30.7, 31.0, 31.0, \n",
        "                31.5, 32.0, 32.0, 32.0, 33.0, 33.0, 33.5, 33.5, 34.0, 34.0, 34.5, 35.0, \n",
        "                35.0, 35.0, 35.0, 36.0, 36.0, 37.0, 38.5, 38.5, 39.5, 41.0, 41.0, 9.8, \n",
        "                10.5, 10.6, 11.0, 11.2, 11.3, 11.8, 11.8, 12.0, 12.2, 12.4, 13.0, 14.3, 15.0]\n",
        "fish_weight = [242.0, 290.0, 340.0, 363.0, 430.0, 450.0, 500.0, 390.0, 450.0, 500.0, 475.0, 500.0, \n",
        "                500.0, 340.0, 600.0, 600.0, 700.0, 700.0, 610.0, 650.0, 575.0, 685.0, 620.0, 680.0, \n",
        "                700.0, 725.0, 720.0, 714.0, 850.0, 1000.0, 920.0, 955.0, 925.0, 975.0, 950.0, 6.7, \n",
        "                7.5, 7.0, 9.7, 9.8, 8.7, 10.0, 9.9, 9.8, 12.2, 13.4, 12.2, 19.7, 19.9]"
      ],
      "execution_count": 56,
      "outputs": []
    },
    {
      "cell_type": "code",
      "metadata": {
        "id": "taLGXqk9KDZW"
      },
      "source": [
        "## 모듈 정리\n",
        "import numpy as np\n",
        "import matplotlib.pyplot as plt"
      ],
      "execution_count": 57,
      "outputs": []
    },
    {
      "cell_type": "code",
      "metadata": {
        "colab": {
          "base_uri": "https://localhost:8080/"
        },
        "id": "GI1ieR0uKJFu",
        "outputId": "0da45ecb-2d2c-44f7-d152-e266da40acc8"
      },
      "source": [
        "## np.column_stack 활용\n",
        "np.column_stack(([1, 2, 3], [4, 5, 6]))   # 두 리스트를 짤라서 넣는게 가능하다"
      ],
      "execution_count": 58,
      "outputs": [
        {
          "output_type": "execute_result",
          "data": {
            "text/plain": [
              "array([[1, 4],\n",
              "       [2, 5],\n",
              "       [3, 6]])"
            ]
          },
          "metadata": {},
          "execution_count": 58
        }
      ]
    },
    {
      "cell_type": "code",
      "metadata": {
        "colab": {
          "base_uri": "https://localhost:8080/"
        },
        "id": "8AL1XFrEKfcM",
        "outputId": "8f0e3cca-9c92-4ff7-ca63-c00ae50a61f1"
      },
      "source": [
        "fish_data = np.column_stack((fish_length, fish_weight))\n",
        "print(fish_data[0])   # 이쁘게 잘려진것을 확인할 수 있다."
      ],
      "execution_count": 59,
      "outputs": [
        {
          "output_type": "stream",
          "text": [
            "[ 25.4 242. ]\n"
          ],
          "name": "stdout"
        }
      ]
    },
    {
      "cell_type": "code",
      "metadata": {
        "colab": {
          "base_uri": "https://localhost:8080/"
        },
        "id": "VzB6PSQCKwyi",
        "outputId": "8014785c-f52f-46e3-9d6d-daa211e5123c"
      },
      "source": [
        "## target 만들기 : bream=1, smelt=0\n",
        "fish_target = np.concatenate((np.ones(35), np.zeros(14)))\n",
        "print(fish_target)"
      ],
      "execution_count": 60,
      "outputs": [
        {
          "output_type": "stream",
          "text": [
            "[1. 1. 1. 1. 1. 1. 1. 1. 1. 1. 1. 1. 1. 1. 1. 1. 1. 1. 1. 1. 1. 1. 1. 1.\n",
            " 1. 1. 1. 1. 1. 1. 1. 1. 1. 1. 1. 0. 0. 0. 0. 0. 0. 0. 0. 0. 0. 0. 0. 0.\n",
            " 0.]\n"
          ],
          "name": "stdout"
        }
      ]
    },
    {
      "cell_type": "code",
      "metadata": {
        "id": "kYpGQ153K9BP"
      },
      "source": [
        "## train / test 분리\n",
        "from sklearn.model_selection import train_test_split    # train/test 분리하는 라이브러리 모듈\n",
        "\n",
        "train_input, test_input, train_target, test_target = train_test_split(fish_data, fish_target,\n",
        "                                                                      random_state=42, stratify=fish_target)\n",
        "\n",
        "# train_test_split(data, target, random_states=n, stratify=A)\n",
        "# random_state : seed값 넣는 파라미터\n",
        "# stratify : 해당 값과 동일한 비율로 쪼갠다(편향 방지)"
      ],
      "execution_count": 61,
      "outputs": []
    },
    {
      "cell_type": "code",
      "metadata": {
        "colab": {
          "base_uri": "https://localhost:8080/"
        },
        "id": "DlAyg6vsMPIM",
        "outputId": "75e65a8d-cf17-40ee-e7f3-c203dab0fda3"
      },
      "source": [
        "print(test_target)"
      ],
      "execution_count": 62,
      "outputs": [
        {
          "output_type": "stream",
          "text": [
            "[0. 0. 1. 0. 1. 0. 1. 1. 1. 1. 1. 1. 1.]\n"
          ],
          "name": "stdout"
        }
      ]
    },
    {
      "cell_type": "code",
      "metadata": {
        "colab": {
          "base_uri": "https://localhost:8080/"
        },
        "id": "2z0A33RsMkga",
        "outputId": "8bcf1da7-3f59-41a1-aaab-d1b34131a722"
      },
      "source": [
        "## 정규화\n",
        "from sklearn.neighbors import KNeighborsClassifier\n",
        "\n",
        "kn = KNeighborsClassifier()\n",
        "kn.fit(train_input, train_target)\n",
        "kn.score(test_input, test_target)"
      ],
      "execution_count": 63,
      "outputs": [
        {
          "output_type": "execute_result",
          "data": {
            "text/plain": [
              "1.0"
            ]
          },
          "metadata": {},
          "execution_count": 63
        }
      ]
    },
    {
      "cell_type": "code",
      "metadata": {
        "colab": {
          "base_uri": "https://localhost:8080/"
        },
        "id": "hfUzoKQnTWpO",
        "outputId": "d7efe65a-a454-49be-a987-12f14998d096"
      },
      "source": [
        "print(kn.predict([[25, 150]]))\n",
        "\n",
        "# 왜 예측을 못하는가? → 정규화를 하지 않았음"
      ],
      "execution_count": 64,
      "outputs": [
        {
          "output_type": "stream",
          "text": [
            "[0.]\n"
          ],
          "name": "stdout"
        }
      ]
    },
    {
      "cell_type": "code",
      "metadata": {
        "colab": {
          "base_uri": "https://localhost:8080/",
          "height": 279
        },
        "id": "t1_1NbCFTjEH",
        "outputId": "78198d19-37f7-4167-b384-2f499e089fe7"
      },
      "source": [
        "## 그래프로 확인해보기\n",
        "import matplotlib.pyplot as plt\n",
        "\n",
        "plt.scatter(train_input[:,0], train_input[:,1])\n",
        "plt.scatter(25, 150, marker='^')\n",
        "plt.xlabel('length')\n",
        "plt.ylabel('weight')\n",
        "plt.show()\n",
        "\n",
        "# 그림만 보면 bream과 가까운것을 확인할 수 있다"
      ],
      "execution_count": 65,
      "outputs": [
        {
          "output_type": "display_data",
          "data": {
            "image/png": "[encoded data removed]",
            "text/plain": [
              "<Figure size 432x288 with 1 Axes>"
            ]
          },
          "metadata": {
            "needs_background": "light"
          }
        }
      ]
    },
    {
      "cell_type": "code",
      "metadata": {
        "colab": {
          "base_uri": "https://localhost:8080/",
          "height": 279
        },
        "id": "R7Y4SW-kUQhy",
        "outputId": "551dfe0c-5419-4d40-dbc0-d483b10913f6"
      },
      "source": [
        "distances, indexes = kn.kneighbors([[25, 150]])\n",
        "\n",
        "plt.scatter(train_input[:,0], train_input[:,1])\n",
        "plt.scatter(25, 150, marker='^')\n",
        "plt.scatter(train_input[indexes,0], train_input[indexes,1], marker='D')\n",
        "plt.xlabel('length')\n",
        "plt.ylabel('weight')\n",
        "plt.show()\n",
        "\n",
        "# '초록점'은 '세모점'에서 거리가 가장 가까운(근접한) 점들 5개를 표현한것이다.\n",
        "# 하지만 그래프로만 보았을때 잘못 선택된거 같다 → 하지만 x,y좌표의 단위가 다르기 때문에 오류가 생긴다 "
      ],
      "execution_count": 66,
      "outputs": [
        {
          "output_type": "display_data",
          "data": {
            "image/png": "[encoded data removed]",
            "text/plain": [
              "<Figure size 432x288 with 1 Axes>"
            ]
          },
          "metadata": {
            "needs_background": "light"
          }
        }
      ]
    },
    {
      "cell_type": "code",
      "metadata": {
        "colab": {
          "base_uri": "https://localhost:8080/",
          "height": 283
        },
        "id": "0kKiG9gRVJgu",
        "outputId": "32bc297e-2f14-44d0-8191-8d538b01142e"
      },
      "source": [
        "plt.scatter(train_input[:,0], train_input[:,1])\n",
        "plt.scatter(25, 150, marker='^')\n",
        "plt.scatter(train_input[indexes, 0], train_input[indexes, 1], marker='D')\n",
        "plt.xlim((0, 1200))\n",
        "plt.ylim((0, 1200))\n",
        "plt.xlabel('length')\n",
        "plt.ylabel('weight')\n",
        "plt.show()\n",
        "\n",
        "# x, y축의 크기를 동일하게 변경하고 그래프를 보면 틀리지 않은 것을 확인할 수 있다.\n",
        "# 하지만 위 그래프에서 가까운 점을 찾는게 목표인데 어떻게 하면 될까? → 정규화"
      ],
      "execution_count": 67,
      "outputs": [
        {
          "output_type": "display_data",
          "data": {
            "image/png": "[encoded data removed]",
            "text/plain": [
              "<Figure size 432x288 with 1 Axes>"
            ]
          },
          "metadata": {
            "needs_background": "light"
          }
        }
      ]
    },
    {
      "cell_type": "code",
      "metadata": {
        "colab": {
          "base_uri": "https://localhost:8080/"
        },
        "id": "NvkUHY06WjEO",
        "outputId": "ca2b88a5-8a4b-4b2a-d325-3e0e8f790311"
      },
      "source": [
        "## 평균, 표준편차\n",
        "mean = np.mean(train_input, axis=0)\n",
        "std = np.std(train_input, axis=0)\n",
        "\n",
        "# 평균, 표준편차 잘나오는지 확인!\n",
        "print(mean, std)"
      ],
      "execution_count": 68,
      "outputs": [
        {
          "output_type": "stream",
          "text": [
            "[ 27.29722222 454.09722222] [  9.98244253 323.29893931]\n"
          ],
          "name": "stdout"
        }
      ]
    },
    {
      "cell_type": "code",
      "metadata": {
        "colab": {
          "base_uri": "https://localhost:8080/",
          "height": 279
        },
        "id": "tRK2tp20XDqS",
        "outputId": "7c06bc9f-49f8-443d-e6ac-84941988a1e1"
      },
      "source": [
        "## scale 조정 : (값 - 평균)/표준편차\n",
        "train_scaled = (train_input - mean) / std   # 훈련세트 scale 조정\n",
        "test_scaled = (test_input - mean) / std     # 테스트세트 scale 조정\n",
        "new = ([25, 150] - mean) / std              # 예측할 값 scale 조정\n",
        "\n",
        "distances, indexes = kn.kneighbors([new])\n",
        "\n",
        "plt.scatter(train_scaled[:,0], train_scaled[:,1])\n",
        "plt.scatter(new[0], new[1], marker='^')\n",
        "plt.scatter(train_scaled[indexes,0], train_scaled[indexes,1], marker='D')\n",
        "plt.xlabel('length')\n",
        "plt.ylabel('weight')\n",
        "plt.show()\n",
        "\n",
        "\n",
        "# 처음돌릴때 왜 이상하게 나오는지? 나중에 확인해보기"
      ],
      "execution_count": 72,
      "outputs": [
        {
          "output_type": "display_data",
          "data": {
            "image/png": "[encoded data removed]",
            "text/plain": [
              "<Figure size 432x288 with 1 Axes>"
            ]
          },
          "metadata": {
            "needs_background": "light"
          }
        }
      ]
    },
    {
      "cell_type": "code",
      "metadata": {
        "colab": {
          "base_uri": "https://localhost:8080/"
        },
        "id": "kGXuq681WMGA",
        "outputId": "6e1733ad-d049-4d69-e27a-effb577ce391"
      },
      "source": [
        "## scale 조정된걸로 다시 훈련시키기\n",
        "kn.fit(train_scaled, train_target)"
      ],
      "execution_count": 70,
      "outputs": [
        {
          "output_type": "execute_result",
          "data": {
            "text/plain": [
              "KNeighborsClassifier(algorithm='auto', leaf_size=30, metric='minkowski',\n",
              "                     metric_params=None, n_jobs=None, n_neighbors=5, p=2,\n",
              "                     weights='uniform')"
            ]
          },
          "metadata": {},
          "execution_count": 70
        }
      ]
    },
    {
      "cell_type": "code",
      "metadata": {
        "colab": {
          "base_uri": "https://localhost:8080/"
        },
        "id": "HgCMIPvCWRLs",
        "outputId": "50806960-f38a-4bc3-f0dd-62afe7dcb539"
      },
      "source": [
        "## 점수 확인\n",
        "kn.score(test_scaled, test_target)\n",
        "\n",
        "# 1.0 으로 잘 나오는 것을 확인할 수 있다"
      ],
      "execution_count": 73,
      "outputs": [
        {
          "output_type": "execute_result",
          "data": {
            "text/plain": [
              "1.0"
            ]
          },
          "metadata": {},
          "execution_count": 73
        }
      ]
    },
    {
      "cell_type": "code",
      "metadata": {
        "colab": {
          "base_uri": "https://localhost:8080/"
        },
        "id": "8O6GJkH0XHnF",
        "outputId": "e57c2e96-d043-4650-e344-73c861229482"
      },
      "source": [
        "## new 데이터는 어떤 생선인지 확인하기 : bream=1, smelt=0\n",
        "print(kn.predict([new]))\n",
        "\n",
        "# 1이 나왔기 때문에 [25, 150] 데이터는 'bream'으로 판단!"
      ],
      "execution_count": 74,
      "outputs": [
        {
          "output_type": "stream",
          "text": [
            "[1.]\n"
          ],
          "name": "stdout"
        }
      ]
    }
  ]
}